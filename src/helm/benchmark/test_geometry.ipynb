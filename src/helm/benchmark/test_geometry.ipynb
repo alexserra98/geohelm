{
 "cells": [
  {
   "cell_type": "code",
   "execution_count": 1,
   "metadata": {},
   "outputs": [
    {
     "name": "stderr",
     "output_type": "stream",
     "text": [
      "/u/dssc/zenocosini/miniconda3/envs/crfm-helm/lib/python3.10/site-packages/tqdm/auto.py:22: TqdmWarning: IProgress not found. Please update jupyter and ipywidgets. See https://ipywidgets.readthedocs.io/en/stable/user_install.html\n",
      "  from .autonotebook import tqdm as notebook_tqdm\n"
     ]
    }
   ],
   "source": [
    "import pickle\n",
    "import pickle\n",
    "from helm.benchmark.hidden_geometry.geometry import Geometry, RunGeometry\n",
    "from helm.benchmark.adaptation.scenario_state import ScenarioState\n",
    "from helm.benchmark.scenarios.scenario import Instance\n",
    "import os\n",
    "import numpy as np\n",
    "import plotly.express as px  # (version 4.7.0 or higher)\n",
    "import pandas as pd\n"
   ]
  },
  {
   "cell_type": "code",
   "execution_count": 2,
   "metadata": {},
   "outputs": [],
   "source": [
    "# from datasets import Dataset, DatasetDict, load_dataset, load_from_disk\n",
    "# from datasets import load_dataset\n",
    "\n",
    "# dataset = load_dataset(\"cais/mmlu\", \"anatomy\")\n",
    "# for i in ['auxiliary_train', 'dev', 'validation', 'test']:\n",
    "#     data = load_dataset(\"cais/mmlu\", \"anatomy\", split=i)    \n",
    "#     data.to_csv(f'/u/dssc/zenocosini/.cache/anatomy/{i}.csv')"
   ]
  },
  {
   "cell_type": "code",
   "execution_count": 2,
   "metadata": {},
   "outputs": [],
   "source": [
    "path_version = \"/u/dssc/zenocosini/helm_tests/benchmark_output/runs/v1\"\n",
    "path = \"/mmlu:subject=anatomy,method=multiple_choice_joint,model=huggingface_gpt2,max_train_instances=3/\"\n",
    "path_intdim = os.path.join(path_version+path, \"int_dim.pkl\")"
   ]
  },
  {
   "cell_type": "code",
   "execution_count": 3,
   "metadata": {},
   "outputs": [],
   "source": [
    "files = os.listdir(path_version)\n",
    "files = list(filter(lambda x: x!= \"eval_cache\", files))\n",
    "hidden_geometry = {}\n",
    "hidden_states = {}\n",
    "for k,i in enumerate(files):\n",
    "    path_run = os.path.join(path_version, i)\n",
    "    with open(path_run+\"/hidden_geometry.pkl\", \"rb\") as f:\n",
    "        hidden_geometry[k] = pickle.load(f)"
   ]
  },
  {
   "cell_type": "code",
   "execution_count": 4,
   "metadata": {},
   "outputs": [
    {
     "name": "stdout",
     "output_type": "stream",
     "text": [
      "83 overlapping datapoints found: keeping 66 unique elements WARNING: the order of points has been changed!\n",
      "No identical identical points were found\n",
      "No identical identical points were found\n",
      "No identical identical points were found\n",
      "No identical identical points were found\n",
      "No identical identical points were found\n",
      "No identical identical points were found\n",
      "No identical identical points were found\n",
      "No identical identical points were found\n",
      "No identical identical points were found\n",
      "No identical identical points were found\n",
      "No identical identical points were found\n",
      "No identical identical points were found\n",
      "83 overlapping datapoints found: keeping 66 unique elements WARNING: the order of points has been changed!\n",
      "layer.N=66layer.return_id_scaling_gride(range_max = 1000)=(array([8.21, 2.3 , 1.48, 1.2 , 1.07]), array([1.01, 0.2 , 0.09, 0.05, 0.03]), array([0.16, 0.23, 0.36, 0.62, 1.14]))\n",
      "No identical identical points were found\n",
      "layer.N=149layer.return_id_scaling_gride(range_max = 1000)=(array([11.45,  9.86,  7.96,  5.8 ,  3.62,  1.93]), array([0.94, 0.58, 0.33, 0.17, 0.08, 0.03]), array([2.86, 3.12, 3.44, 3.86, 4.56, 6.11]))\n",
      "No identical identical points were found\n",
      "layer.N=149layer.return_id_scaling_gride(range_max = 1000)=(array([10.66,  9.95,  8.54,  6.34,  4.15,  2.34]), array([0.87, 0.59, 0.36, 0.19, 0.09, 0.03]), array([3.51, 3.83, 4.19, 4.65, 5.38, 6.88]))\n",
      "No identical identical points were found\n",
      "layer.N=149layer.return_id_scaling_gride(range_max = 1000)=(array([11.92, 10.44,  8.84,  7.12,  4.72,  2.68]), array([0.98, 0.62, 0.37, 0.21, 0.1 , 0.04]), array([4.08, 4.42, 4.81, 5.29, 6.01, 7.43]))\n",
      "No identical identical points were found\n",
      "layer.N=149layer.return_id_scaling_gride(range_max = 1000)=(array([11.82, 10.74,  9.4 ,  7.16,  4.75,  2.95]), array([0.97, 0.63, 0.39, 0.21, 0.1 , 0.04]), array([5.14, 5.56, 6.01, 6.59, 7.47, 9.1 ]))\n",
      "No identical identical points were found\n",
      "layer.N=149layer.return_id_scaling_gride(range_max = 1000)=(array([12.7 , 11.22,  9.76,  7.43,  5.06,  2.95]), array([1.04, 0.66, 0.41, 0.22, 0.11, 0.04]), array([ 6.11,  6.57,  7.08,  7.72,  8.69, 10.52]))\n",
      "No identical identical points were found\n",
      "layer.N=149layer.return_id_scaling_gride(range_max = 1000)=(array([11.52, 10.3 ,  8.59,  7.58,  5.43,  3.07]), array([0.94, 0.61, 0.36, 0.22, 0.11, 0.05]), array([ 7.59,  8.21,  8.91,  9.75, 10.89, 13.05]))\n",
      "No identical identical points were found\n",
      "layer.N=149layer.return_id_scaling_gride(range_max = 1000)=(array([13.38, 10.61,  9.  ,  8.69,  5.8 ,  3.66]), array([1.1 , 0.63, 0.38, 0.26, 0.12, 0.05]), array([ 9.44, 10.14, 10.95, 11.87, 13.11, 15.33]))\n",
      "No identical identical points were found\n",
      "layer.N=149layer.return_id_scaling_gride(range_max = 1000)=(array([12.37, 11.35,  8.8 ,  8.48,  6.46,  4.06]), array([1.01, 0.67, 0.37, 0.25, 0.14, 0.06]), array([11.78, 12.65, 13.63, 14.8 , 16.26, 18.69]))\n",
      "No identical identical points were found\n",
      "layer.N=149layer.return_id_scaling_gride(range_max = 1000)=(array([11.06, 11.86, 10.12,  8.54,  6.82,  4.22]), array([0.91, 0.7 , 0.43, 0.25, 0.14, 0.06]), array([18.37, 19.81, 21.22, 22.92, 25.11, 28.65]))\n",
      "No identical identical points were found\n",
      "layer.N=149layer.return_id_scaling_gride(range_max = 1000)=(array([12.29, 15.72, 14.32, 10.85,  9.48,  5.61]), array([1.01, 0.93, 0.6 , 0.32, 0.2 , 0.08]), array([34.07, 36.21, 38.09, 40.36, 43.24, 47.77]))\n",
      "No identical identical points were found\n",
      "layer.N=149layer.return_id_scaling_gride(range_max = 1000)=(array([14.97, 17.7 , 16.3 , 13.07, 10.96,  8.53]), array([1.23, 1.05, 0.68, 0.39, 0.23, 0.13]), array([60.56, 63.85, 66.81, 70.18, 74.4 , 80.01]))\n",
      "No identical identical points were found\n",
      "layer.N=149layer.return_id_scaling_gride(range_max = 1000)=(array([10.05, 10.94,  7.3 ,  6.06,  4.46,  2.8 ]), array([0.82, 0.65, 0.31, 0.18, 0.09, 0.04]), array([ 9.34, 10.18, 11.17, 12.58, 14.58, 18.07]))\n"
     ]
    },
    {
     "name": "stderr",
     "output_type": "stream",
     "text": [
      "/orfeo/cephfs/home/dssc/zenocosini/helm/src/helm/benchmark/hidden_geometry/utils.py:35: VisibleDeprecationWarning: Creating an ndarray from ragged nested sequences (which is a list-or-tuple of lists-or-tuples-or ndarrays with different lengths or shapes) is deprecated. If you meant to do this, you must specify 'dtype=object' when creating the ndarray.\n",
      "  return  np.asarray(id_per_layer)\n"
     ]
    },
    {
     "name": "stdout",
     "output_type": "stream",
     "text": [
      "No identical identical points were found\n",
      "No identical identical points were found\n",
      "No identical identical points were found\n",
      "No identical identical points were found\n",
      "No identical identical points were found\n",
      "No identical identical points were found\n",
      "No identical identical points were found\n",
      "No identical identical points were found\n",
      "No identical identical points were found\n",
      "No identical identical points were found\n",
      "No identical identical points were found\n",
      "No identical identical points were found\n",
      "No identical identical points were found\n",
      "No identical identical points were found\n",
      "layer.N=149layer.return_id_scaling_gride(range_max = 1000)=(array([21.12, 17.63, 15.39, 11.67,  6.52,  3.26]), array([1.73, 1.04, 0.65, 0.35, 0.14, 0.05]), array([0.51, 0.53, 0.56, 0.59, 0.65, 0.77]))\n",
      "No identical identical points were found\n",
      "layer.N=149layer.return_id_scaling_gride(range_max = 1000)=(array([17.86, 19.02, 17.2 , 14.76, 10.4 ,  5.44]), array([1.46, 1.12, 0.72, 0.44, 0.22, 0.08]), array([5.79, 6.08, 6.35, 6.65, 7.05, 7.8 ]))\n",
      "No identical identical points were found\n",
      "layer.N=149layer.return_id_scaling_gride(range_max = 1000)=(array([19.63, 17.96, 17.39, 14.73, 11.02,  5.84]), array([1.61, 1.06, 0.73, 0.44, 0.23, 0.09]), array([6.56, 6.87, 7.18, 7.53, 7.97, 8.75]))\n",
      "No identical identical points were found\n",
      "layer.N=149layer.return_id_scaling_gride(range_max = 1000)=(array([17.01, 17.71, 17.52, 15.33, 11.07,  6.56]), array([1.39, 1.05, 0.73, 0.45, 0.23, 0.1 ]), array([ 7.69,  8.09,  8.45,  8.84,  9.35, 10.19]))\n",
      "No identical identical points were found\n",
      "layer.N=149layer.return_id_scaling_gride(range_max = 1000)=(array([17.25, 17.83, 17.63, 15.38, 11.18,  6.71]), array([1.41, 1.05, 0.74, 0.46, 0.23, 0.1 ]), array([ 8.98,  9.44,  9.86, 10.31, 10.89, 11.85]))\n",
      "No identical identical points were found\n",
      "layer.N=149layer.return_id_scaling_gride(range_max = 1000)=(array([15.99, 17.94, 17.1 , 15.24, 11.21,  6.81]), array([1.31, 1.06, 0.72, 0.45, 0.23, 0.1 ]), array([10.18, 10.72, 11.21, 11.73, 12.4 , 13.47]))\n",
      "No identical identical points were found\n",
      "layer.N=149layer.return_id_scaling_gride(range_max = 1000)=(array([15.32, 18.56, 17.07, 15.72, 11.17,  7.01]), array([1.25, 1.1 , 0.71, 0.47, 0.23, 0.1 ]), array([11.75, 12.39, 12.94, 13.53, 14.28, 15.5 ]))\n",
      "No identical identical points were found\n",
      "layer.N=149layer.return_id_scaling_gride(range_max = 1000)=(array([16.03, 17.14, 17.7 , 14.87, 11.34,  7.38]), array([1.31, 1.01, 0.74, 0.44, 0.24, 0.11]), array([13.53, 14.26, 14.91, 15.6 , 16.48, 17.83]))\n",
      "No identical identical points were found\n",
      "layer.N=149layer.return_id_scaling_gride(range_max = 1000)=(array([14.08, 18.57, 16.45, 14.61, 10.88,  7.47]), array([1.15, 1.1 , 0.69, 0.43, 0.23, 0.11]), array([16.16, 17.07, 17.85, 18.71, 19.8 , 21.43]))\n",
      "No identical identical points were found\n",
      "layer.N=149layer.return_id_scaling_gride(range_max = 1000)=(array([14.29, 16.86, 16.49, 13.69, 10.63,  7.79]), array([1.17, 1.  , 0.69, 0.41, 0.22, 0.12]), array([19.48, 20.62, 21.61, 22.69, 24.07, 26.02]))\n",
      "No identical identical points were found\n",
      "layer.N=149layer.return_id_scaling_gride(range_max = 1000)=(array([14.13, 14.77, 17.29, 13.55, 10.57,  7.82]), array([1.16, 0.87, 0.72, 0.4 , 0.22, 0.12]), array([24.67, 26.21, 27.54, 28.9 , 30.67, 33.16]))\n",
      "No identical identical points were found\n",
      "layer.N=149layer.return_id_scaling_gride(range_max = 1000)=(array([13.7 , 14.91, 15.82, 13.42, 10.6 ,  8.17]), array([1.12, 0.88, 0.66, 0.4 , 0.22, 0.12]), array([33.17, 35.25, 37.11, 39.02, 41.42, 44.68]))\n",
      "No identical identical points were found\n",
      "layer.N=149layer.return_id_scaling_gride(range_max = 1000)=(array([6.91, 6.4 , 4.64, 3.69, 2.93, 2.2 ]), array([0.57, 0.38, 0.19, 0.11, 0.06, 0.03]), array([ 7.96,  9.1 , 10.57, 12.73, 16.01, 21.42]))\n"
     ]
    },
    {
     "data": {
      "text/plain": [
       "{'last 2nn': array([[ 8.04],\n",
       "        [11.88],\n",
       "        [10.62],\n",
       "        [11.8 ],\n",
       "        [11.81],\n",
       "        [12.64],\n",
       "        [11.91],\n",
       "        [14.63],\n",
       "        [13.84],\n",
       "        [12.  ],\n",
       "        [14.6 ],\n",
       "        [17.74],\n",
       "        [10.44]]),\n",
       " 'last gride': array([array([8.21, 2.3 , 1.48, 1.2 , 1.07]),\n",
       "        array([11.45,  9.86,  7.96,  5.8 ,  3.62,  1.93]),\n",
       "        array([10.66,  9.95,  8.54,  6.34,  4.15,  2.34]),\n",
       "        array([11.92, 10.44,  8.84,  7.12,  4.72,  2.68]),\n",
       "        array([11.82, 10.74,  9.4 ,  7.16,  4.75,  2.95]),\n",
       "        array([12.7 , 11.22,  9.76,  7.43,  5.06,  2.95]),\n",
       "        array([11.52, 10.3 ,  8.59,  7.58,  5.43,  3.07]),\n",
       "        array([13.38, 10.61,  9.  ,  8.69,  5.8 ,  3.66]),\n",
       "        array([12.37, 11.35,  8.8 ,  8.48,  6.46,  4.06]),\n",
       "        array([11.06, 11.86, 10.12,  8.54,  6.82,  4.22]),\n",
       "        array([12.29, 15.72, 14.32, 10.85,  9.48,  5.61]),\n",
       "        array([14.97, 17.7 , 16.3 , 13.07, 10.96,  8.53]),\n",
       "        array([10.05, 10.94,  7.3 ,  6.06,  4.46,  2.8 ])], dtype=object),\n",
       " 'sum 2nn': array([[23.4 ],\n",
       "        [19.61],\n",
       "        [22.87],\n",
       "        [17.44],\n",
       "        [18.13],\n",
       "        [16.65],\n",
       "        [15.11],\n",
       "        [15.32],\n",
       "        [13.79],\n",
       "        [14.49],\n",
       "        [14.43],\n",
       "        [14.77],\n",
       "        [ 7.17]]),\n",
       " 'sum gride': array([[21.12, 17.63, 15.39, 11.67,  6.52,  3.26],\n",
       "        [17.86, 19.02, 17.2 , 14.76, 10.4 ,  5.44],\n",
       "        [19.63, 17.96, 17.39, 14.73, 11.02,  5.84],\n",
       "        [17.01, 17.71, 17.52, 15.33, 11.07,  6.56],\n",
       "        [17.25, 17.83, 17.63, 15.38, 11.18,  6.71],\n",
       "        [15.99, 17.94, 17.1 , 15.24, 11.21,  6.81],\n",
       "        [15.32, 18.56, 17.07, 15.72, 11.17,  7.01],\n",
       "        [16.03, 17.14, 17.7 , 14.87, 11.34,  7.38],\n",
       "        [14.08, 18.57, 16.45, 14.61, 10.88,  7.47],\n",
       "        [14.29, 16.86, 16.49, 13.69, 10.63,  7.79],\n",
       "        [14.13, 14.77, 17.29, 13.55, 10.57,  7.82],\n",
       "        [13.7 , 14.91, 15.82, 13.42, 10.6 ,  8.17],\n",
       "        [ 6.91,  6.4 ,  4.64,  3.69,  2.93,  2.2 ]])}"
      ]
     },
     "execution_count": 4,
     "metadata": {},
     "output_type": "execute_result"
    }
   ],
   "source": [
    "hidden_geometry[0].instances_id"
   ]
  },
  {
   "cell_type": "code",
   "execution_count": 6,
   "metadata": {},
   "outputs": [
    {
     "ename": "KeyError",
     "evalue": "'last'",
     "output_type": "error",
     "traceback": [
      "\u001b[0;31m---------------------------------------------------------------------------\u001b[0m",
      "\u001b[0;31mKeyError\u001b[0m                                  Traceback (most recent call last)",
      "\u001b[1;32m/u/dssc/zenocosini/helm/src/helm/benchmark/test_geometry.ipynb Cell 6\u001b[0m line \u001b[0;36m2\n\u001b[1;32m      <a href='vscode-notebook-cell://ssh-remote%2Borfeo/u/dssc/zenocosini/helm/src/helm/benchmark/test_geometry.ipynb#W5sdnNjb2RlLXJlbW90ZQ%3D%3D?line=0'>1</a>\u001b[0m int_dim \u001b[39m=\u001b[39m hidden_geometry[\u001b[39m0\u001b[39m]\u001b[39m.\u001b[39mget_instances_id()\n\u001b[0;32m----> <a href='vscode-notebook-cell://ssh-remote%2Borfeo/u/dssc/zenocosini/helm/src/helm/benchmark/test_geometry.ipynb#W5sdnNjb2RlLXJlbW90ZQ%3D%3D?line=1'>2</a>\u001b[0m layers \u001b[39m=\u001b[39m np\u001b[39m.\u001b[39marange(int_dim[\u001b[39m\"\u001b[39;49m\u001b[39mlast\u001b[39;49m\u001b[39m\"\u001b[39;49m]\u001b[39m.\u001b[39mshape[\u001b[39m0\u001b[39m])\n\u001b[1;32m      <a href='vscode-notebook-cell://ssh-remote%2Borfeo/u/dssc/zenocosini/helm/src/helm/benchmark/test_geometry.ipynb#W5sdnNjb2RlLXJlbW90ZQ%3D%3D?line=2'>3</a>\u001b[0m df \u001b[39m=\u001b[39m pd\u001b[39m.\u001b[39mDataFrame({\u001b[39m'\u001b[39m\u001b[39mlayers\u001b[39m\u001b[39m'\u001b[39m:layers, \u001b[39m'\u001b[39m\u001b[39mid\u001b[39m\u001b[39m'\u001b[39m:int_dim[\u001b[39m\"\u001b[39m\u001b[39mlast\u001b[39m\u001b[39m\"\u001b[39m][:,\u001b[39m0\u001b[39m]})\n\u001b[1;32m      <a href='vscode-notebook-cell://ssh-remote%2Borfeo/u/dssc/zenocosini/helm/src/helm/benchmark/test_geometry.ipynb#W5sdnNjb2RlLXJlbW90ZQ%3D%3D?line=3'>4</a>\u001b[0m fig1 \u001b[39m=\u001b[39m px\u001b[39m.\u001b[39mline(df, x\u001b[39m=\u001b[39m\u001b[39m\"\u001b[39m\u001b[39mlayers\u001b[39m\u001b[39m\"\u001b[39m, y\u001b[39m=\u001b[39m\u001b[39m\"\u001b[39m\u001b[39mid\u001b[39m\u001b[39m\"\u001b[39m, title\u001b[39m=\u001b[39m\u001b[39m'\u001b[39m\u001b[39mIntrinsic Dimension\u001b[39m\u001b[39m'\u001b[39m)\n",
      "\u001b[0;31mKeyError\u001b[0m: 'last'"
     ]
    }
   ],
   "source": [
    "int_dim = hidden_geometry[0].get_instances_id()\n",
    "layers = np.arange(int_dim[\"last\"].shape[0])\n",
    "df = pd.DataFrame({'layers':layers, 'id':int_dim[\"last\"][:,0]})\n",
    "fig1 = px.line(df, x=\"layers\", y=\"id\", title='Intrinsic Dimension')"
   ]
  },
  {
   "cell_type": "code",
   "execution_count": null,
   "metadata": {},
   "outputs": [
    {
     "data": {
      "text/plain": [
       "(13,)"
      ]
     },
     "execution_count": 17,
     "metadata": {},
     "output_type": "execute_result"
    }
   ],
   "source": [
    "int_dim[\"last\"][:,0].shape"
   ]
  },
  {
   "cell_type": "code",
   "execution_count": null,
   "metadata": {},
   "outputs": [],
   "source": [
    "geom = Geometry([hidden_geometry])\n",
    "overlap = geom._instances_overlap(run1=hidden_geometry[0], run2=hidden_geometry[1], method = \"last\", k=5)\n",
    "fig3 = px.imshow(overlap)"
   ]
  },
  {
   "cell_type": "code",
   "execution_count": null,
   "metadata": {},
   "outputs": [
    {
     "data": {
      "text/plain": [
       "{'last': array([[20.26],\n",
       "        [10.22],\n",
       "        [ 8.9 ],\n",
       "        [12.15],\n",
       "        [11.36],\n",
       "        [11.24],\n",
       "        [11.61],\n",
       "        [12.18],\n",
       "        [12.  ],\n",
       "        [14.43],\n",
       "        [14.55],\n",
       "        [13.64],\n",
       "        [ 7.41]]),\n",
       " 'sum': array([[21.21],\n",
       "        [18.78],\n",
       "        [21.55],\n",
       "        [16.63],\n",
       "        [17.34],\n",
       "        [16.29],\n",
       "        [14.51],\n",
       "        [14.75],\n",
       "        [13.52],\n",
       "        [14.06],\n",
       "        [14.1 ],\n",
       "        [15.16],\n",
       "        [ 7.69]])}"
      ]
     },
     "execution_count": 26,
     "metadata": {},
     "output_type": "execute_result"
    }
   ],
   "source": [
    "hidden_geometry[0].get_instances_id()\n"
   ]
  },
  {
   "cell_type": "code",
   "execution_count": null,
   "metadata": {},
   "outputs": [],
   "source": [
    "geom = Geometry([hidden_geometry[0]])"
   ]
  },
  {
   "cell_type": "code",
   "execution_count": null,
   "metadata": {},
   "outputs": [],
   "source": [
    "prova = geom._instances_overlap(run1=hidden_geometry[0], run2=hidden_geometry[0], method = \"last\", k=5)"
   ]
  },
  {
   "cell_type": "code",
   "execution_count": null,
   "metadata": {},
   "outputs": [
    {
     "data": {
      "text/plain": [
       "<AxesSubplot: >"
      ]
     },
     "execution_count": 12,
     "metadata": {},
     "output_type": "execute_result"
    },
    {
     "data": {
      "image/png": "[encoded data removed]",
      "text/plain": [
       "<Figure size 640x480 with 2 Axes>"
      ]
     },
     "metadata": {},
     "output_type": "display_data"
    }
   ],
   "source": [
    "import seaborn as sns\n",
    "sns.heatmap(prova)"
   ]
  }
 ],
 "metadata": {
  "kernelspec": {
   "display_name": "myenv",
   "language": "python",
   "name": "python3"
  },
  "language_info": {
   "codemirror_mode": {
    "name": "ipython",
    "version": 3
   },
   "file_extension": ".py",
   "mimetype": "text/x-python",
   "name": "python",
   "nbconvert_exporter": "python",
   "pygments_lexer": "ipython3",
   "version": "3.10.13"
  },
  "orig_nbformat": 4
 },
 "nbformat": 4,
 "nbformat_minor": 2
}
